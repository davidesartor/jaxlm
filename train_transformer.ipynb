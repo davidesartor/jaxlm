{
 "cells": [
  {
   "cell_type": "code",
   "execution_count": 1,
   "metadata": {},
   "outputs": [],
   "source": [
    "import jax\n",
    "import optax\n",
    "import flax\n",
    "from flax.training.train_state import TrainState\n",
    "\n",
    "from functools import partial\n",
    "from tqdm.auto import tqdm\n",
    "from datasets import TextDataset\n",
    "import models\n",
    "import training"
   ]
  },
  {
   "cell_type": "code",
   "execution_count": 2,
   "metadata": {},
   "outputs": [],
   "source": [
    "rng_key = jax.random.key(0)\n",
    "context_len = 8\n",
    "batch_size = 32\n",
    "\n",
    "dataset = TextDataset(data_path=\"shakespeare.txt\")\n",
    "model = models.TransormerLM(\n",
    "    vocab_size=len(dataset.tokenizer.vocab),\n",
    "    max_context_len=context_len,\n",
    "    embedding_dim=64,\n",
    "    head_size = 16,\n",
    "    n_heads = 4,\n",
    "    n_layers = 2,\n",
    ")"
   ]
  },
  {
   "cell_type": "code",
   "execution_count": 3,
   "metadata": {},
   "outputs": [
    {
     "data": {
      "application/vnd.jupyter.widget-view+json": {
       "model_id": "c534caf16a3b43a0820d0852af6a960e",
       "version_major": 2,
       "version_minor": 0
      },
      "text/plain": [
       "  0%|          | 0/10 [00:00<?, ?it/s]"
      ]
     },
     "metadata": {},
     "output_type": "display_data"
    },
    {
     "data": {
      "application/vnd.jupyter.widget-view+json": {
       "model_id": "385b8f4afd134c948b661c53924239bd",
       "version_major": 2,
       "version_minor": 0
      },
      "text/plain": [
       "  0%|          | 0/10000 [00:00<?, ?it/s]"
      ]
     },
     "metadata": {},
     "output_type": "display_data"
    },
    {
     "name": "stdout",
     "output_type": "stream",
     "text": [
      "Loss: 2.873110055923462\n",
      "Generation test: \n",
      "\u001b[94m To be or \u001b[0mcucte:\n",
      "\n",
      "I ous, wy tomor praus oawe, au, Baouho shed n sas! utenNg erosl os h! ncoshk tir touhy k sovisor o se fid s; wecaeowarolcl it anbyoe\n",
      "Nd cangome wche, se Id bans I:\n",
      "Y idonoe Vghit ongh ile p\n",
      "RLIE\n",
      ":\n",
      "Ns'y:\n",
      "Ty,\n",
      "Tas? I d bsredtovel we o me ifleubls t Igiury ly inopid Itonoteuls, t tis.\n",
      "\n",
      "MLIOjachoh deheamano minpeiver jhororosiu tin o tor is.\n",
      "\n",
      "\n",
      "Wluur ot thhon fongy thoita.\n",
      "Fls Tetat,\n",
      "I lone, iumo bond,\n",
      "Teorowram\n",
      "Kmesio I rilt'Kon t tiyiof k, S donereorocmu ytacyos\n",
      "Nufhhe soungor Hgthee Fhee nU"
     ]
    },
    {
     "data": {
      "application/vnd.jupyter.widget-view+json": {
       "model_id": "178a1855dc5f47c3be6c406633d32d29",
       "version_major": 2,
       "version_minor": 0
      },
      "text/plain": [
       "  0%|          | 0/10000 [00:00<?, ?it/s]"
      ]
     },
     "metadata": {},
     "output_type": "display_data"
    },
    {
     "name": "stdout",
     "output_type": "stream",
     "text": [
      "Loss: 2.728705883026123\n",
      "Generation test: \n",
      "\u001b[94m To be or \u001b[0m rhive wiu! Mi?\n",
      "\n",
      "\n",
      "M:\n",
      "E.\n",
      "\n",
      "RO: fhdto; owan ed se yisovo\n",
      "TE heeios;\n",
      "Wathis am honey nafrme gek!,\n",
      "CAd IEUSS:\n",
      "This nf, us hou tent kou jheace; nel:\n",
      "If oises.\n",
      "\n",
      "NEd shemy chenive foy hiowi by,\n",
      "I tapasu gore?\n",
      "\n",
      "POr\n",
      "WA Koffchecir, sher ththid procolume thiuvo nevhe gasin o Tariy mory, ta.\n",
      "TUStrst at terpruur:\n",
      "Holas mer bohit?\n",
      "\n",
      "F ATI:\n",
      "Le-TAve at:\n",
      "Doret, wiworisu yand mighe osvon an sone\n",
      "Thit.\n",
      "\n",
      "ITI: thosll de doit tar:\n",
      "Thiwd.\n",
      ":\n",
      "Phomols dhan:\n",
      "I de-d:\n",
      "Thosh th saro bpterto\n",
      "NYdbt; Psotonks desve.\n",
      "\n",
      "Ag rld cthek"
     ]
    },
    {
     "data": {
      "application/vnd.jupyter.widget-view+json": {
       "model_id": "6df215868df34a7ba97a9c16e07739b4",
       "version_major": 2,
       "version_minor": 0
      },
      "text/plain": [
       "  0%|          | 0/10000 [00:00<?, ?it/s]"
      ]
     },
     "metadata": {},
     "output_type": "display_data"
    },
    {
     "name": "stdout",
     "output_type": "stream",
     "text": [
      "Loss: 2.6633145809173584\n",
      "Generation test: \n",
      "\u001b[94m To be or \u001b[0msd a cosice, yit noh tins'f howin o frint fhind ankatiud, ne?\n",
      "\n",
      "Ddamcit pesomt megiro bet micoh that.\n",
      "\n",
      "IQUO Thachlal amas ate Idrin thin etal iwy'g lel thif Ccans thet.\n",
      "\n",
      "SANEl Se ELWAmd d cteun thas skrlar berr't.\n",
      "\n",
      "P, IRIUR BIOCOSwf Ieoed lunl't hhor; boig riRds thiim amgisat sal.\n",
      "\n",
      "Rpsessk ourlas dorees gvirr Tor seired cleleu b,\n",
      "Rd II hohel irin Igor Had Igivilit bheet son iny thhain:\n",
      "Nir eshap hhad lol, mld isan p if:\n",
      "Tof ukdtoue Napcek'y ohe bt metre pmsche gowe wessn bwand'b atee\n",
      "Tas. Gte br!"
     ]
    },
    {
     "data": {
      "application/vnd.jupyter.widget-view+json": {
       "model_id": "a524ca5b862d489ab8762b4ee77e1b69",
       "version_major": 2,
       "version_minor": 0
      },
      "text/plain": [
       "  0%|          | 0/10000 [00:00<?, ?it/s]"
      ]
     },
     "metadata": {},
     "output_type": "display_data"
    },
    {
     "name": "stdout",
     "output_type": "stream",
     "text": [
      "Loss: 2.626544713973999\n",
      "Generation test: \n",
      "\u001b[94m To be or \u001b[0m't beuk thour athe:\n",
      "Ekend fam houry te iread bof, olan I ndorrdrr lhy I uitim oung pyhe tinrils.\n",
      "\n",
      "A Sareve anert nirs\n",
      "O E\n",
      "\n",
      "Votord,\n",
      "MAn, ghor inasny dy, nakt saf norann lyyare wit;\n",
      "Vel, nrdeny araskr firev.\n",
      "\n",
      "Or; anar peeor hik ias:\n",
      "wom yineviy land ghowdr ad whimdarse.\n",
      "\n",
      "ALOBRHHOFUCLEAW\n",
      "Ther maf har,\n",
      "Fd son,\n",
      "Ddaret me anir Ine.\n",
      "\n",
      "OBwe Lo ighit cyip morg Hid net ivedfeitw habr' seturl inspse ye patig br.\n",
      "\n",
      "Toulat Kheet ns henend itunt\n",
      "rcas the;\n",
      "Asrd cas se; Cites tranou rind:\n",
      "Af it haf af sarestasug,"
     ]
    },
    {
     "data": {
      "application/vnd.jupyter.widget-view+json": {
       "model_id": "3cb63dfe49af43c0b8d402ab3fa384f7",
       "version_major": 2,
       "version_minor": 0
      },
      "text/plain": [
       "  0%|          | 0/10000 [00:00<?, ?it/s]"
      ]
     },
     "metadata": {},
     "output_type": "display_data"
    },
    {
     "name": "stdout",
     "output_type": "stream",
     "text": [
      "Loss: 2.6018950939178467\n",
      "Generation test: \n",
      "\u001b[94m To be or \u001b[0m,\n",
      "Gexteas, Whild sho aly ta fum hasxco?\n",
      "\n",
      "MAREEOTAT:\n",
      "QETIUSIDUKAS:\n",
      "uunat mit amilt sor livee yanetr awae tils den choly.\n",
      "\n",
      "K it oriron Ide anvot we asr blas wout dak sessl fuup, u'de tinm the I The psus gole forblr ters ireicas p horekou-mothechs mib rannch il;\n",
      "TINaunr Inewar ne hane necpuyeerr we rhes is riricy e iwen Wot un; olar mdatt phonve,\n",
      "whou sorlr:\n",
      "Shical min, o orimo se athirned wid, Id netherdis, ugan Gnart found thilt saf tht,\n",
      "Molo ave lopeif jony or! flbdowr:\n",
      "Heow fodt iwy, lonis erg "
     ]
    },
    {
     "data": {
      "application/vnd.jupyter.widget-view+json": {
       "model_id": "69a5e23de39c4b0ca6c74160fbb73281",
       "version_major": 2,
       "version_minor": 0
      },
      "text/plain": [
       "  0%|          | 0/10000 [00:00<?, ?it/s]"
      ]
     },
     "metadata": {},
     "output_type": "display_data"
    },
    {
     "name": "stdout",
     "output_type": "stream",
     "text": [
      "Loss: 2.5832927227020264\n",
      "Generation test: \n",
      "\u001b[94m To be or \u001b[0mr tomd the Same whe serr dh, POC:\n",
      "Whad heted bondd delll wole Marl\n",
      "Yow'r lan:\n",
      "Tand woltetrar, Btuot ometu:\n",
      "Frn haeand, cltu the natatwe le th blethot, morcosl kausr!\n",
      "BASIO\n",
      "HTTA\n",
      "Pyen oner liethras, arng ilthit, f dhegsiters akd he, seohe o w igilel--wetle; s vorsyres mha sh iw ROBA\n",
      "MA chohe thim inond;\n",
      "rin wey horploar do thetsrerd theld shar:\n",
      "Yerald theur t athy he der, bis,\n",
      "Get fotu simdagor'g asr,\n",
      "Hor sin s linl bth b couvey datung igt; lag hom thisend arar loucanntrin marree Lou fopksar ro sh"
     ]
    },
    {
     "data": {
      "application/vnd.jupyter.widget-view+json": {
       "model_id": "31c44893357d464bb3fdd1d2ebff149b",
       "version_major": 2,
       "version_minor": 0
      },
      "text/plain": [
       "  0%|          | 0/10000 [00:00<?, ?it/s]"
      ]
     },
     "metadata": {},
     "output_type": "display_data"
    },
    {
     "name": "stdout",
     "output_type": "stream",
     "text": [
      "Loss: 2.5682687759399414\n",
      "Generation test: \n",
      "\u001b[94m To be or \u001b[0m.\n",
      "\n",
      ":\n",
      "Lin has ceolidd tage\n",
      "E ees\n",
      "Yimemy tho pe nidr haged I\n",
      "LUNORCITI:\n",
      "Shol as thig hot lo brth, yrrpeviu eladee, toasat eee ikee thorcise-ndeghe lortism he chive bif.\n",
      "\n",
      "Mrloos cwe ivot olo\n",
      "Ton, Chdirsla'eun moe mafte de suveltu ytafas, voprime yo no rigbk onsis hos asss su quhho isy ith the du ne thoromicree fundtheof, sil boun theet ore leren pare g ealfee no whe, hin im sat, mabr thet we\n",
      "YUIUNDUCUONINUORR:\n",
      "OROWHO\n",
      "SALIDOI:\n",
      "Eeonangise oul, I! ingn lte mat been DISW:\n",
      "Whera Lht sesus ilas pdid bil:"
     ]
    },
    {
     "data": {
      "application/vnd.jupyter.widget-view+json": {
       "model_id": "b8fdc37e0176452eb5e38888dac885c5",
       "version_major": 2,
       "version_minor": 0
      },
      "text/plain": [
       "  0%|          | 0/10000 [00:00<?, ?it/s]"
      ]
     },
     "metadata": {},
     "output_type": "display_data"
    },
    {
     "name": "stdout",
     "output_type": "stream",
     "text": [
      "Loss: 2.555424690246582\n",
      "Generation test: \n",
      "\u001b[94m To be or \u001b[0mlmove thy toulamit, E'ld athes ite she the weaut?\n",
      "\n",
      "BIUSAME:\n",
      "A-\n",
      "Fou phounsou mor sthond eous,\n",
      "Chd tut. A?\n",
      "\n",
      "By Cosreftlel'y\n",
      "Mald.\n",
      "\n",
      "Aromim's we ydo\n",
      "Anll tus wapd to the pepef wolerthist, adcon his.\n",
      "\n",
      "IRZTAR:\n",
      "Hoveremitof purdaco hicer rost horn wou te:\n",
      "Delred, se saaven vebande hehe.\n",
      "\n",
      "\n",
      "KEThinlmos moon\n",
      "Whae?\n",
      "\n",
      ":\n",
      "Yas thamre' the ous ond yelk'the this tof holaton the neum'y re llo horf aes wis lour Esar Ism sars af whol iw the yer g aror hitu faor we'sarcue lycee'd the thapred akey tho the hio whijagve p"
     ]
    },
    {
     "data": {
      "application/vnd.jupyter.widget-view+json": {
       "model_id": "e71c5338cfde4ecd887ada4c5ef36b7d",
       "version_major": 2,
       "version_minor": 0
      },
      "text/plain": [
       "  0%|          | 0/10000 [00:00<?, ?it/s]"
      ]
     },
     "metadata": {},
     "output_type": "display_data"
    },
    {
     "name": "stdout",
     "output_type": "stream",
     "text": [
      "Loss: 2.54449725151062\n",
      "Generation test: \n",
      "\u001b[94m To be or \u001b[0mr selet lhito\n",
      "DIOnd,\n",
      "I ro poeng; he gharomy, yas at turpveleet\n",
      "Whived som fesal otesle,\n",
      "Pokt:\n",
      "Dotd hepee ptu, then ne yoy youiny\n",
      "wow ofr o Bur, Rrith ethet:\n",
      "Wheg wow pey shlin: That hee lild ane:\n",
      "Whet mon hoh der thimlar'd the brar spe ate micos the\n",
      "The thoweese theawslitr\n",
      "wen thoven at izon far as row au sef qnhe herto tur ade.\n",
      "Themethef mich;\n",
      "GAt ley ane llres thed fhohr it filt apm blieste E'R thesecatit the\n",
      "E a theste.\n",
      "\n",
      "Wiflt me niss bd kysuund, vis\n",
      "Ditaslcw.\n",
      "\n",
      "YLENIDIN ILINHLOD:\n",
      "Th goune deo"
     ]
    },
    {
     "data": {
      "application/vnd.jupyter.widget-view+json": {
       "model_id": "5efa3f264a3b4b0f9d1087fd89acd873",
       "version_major": 2,
       "version_minor": 0
      },
      "text/plain": [
       "  0%|          | 0/10000 [00:00<?, ?it/s]"
      ]
     },
     "metadata": {},
     "output_type": "display_data"
    },
    {
     "name": "stdout",
     "output_type": "stream",
     "text": [
      "Loss: 2.5349130630493164\n",
      "Generation test: \n",
      "\u001b[94m To be or \u001b[0me:\n",
      "Jorsas do dy has Yot tetpash anlte sure wegaf, fersislotes the nemerad rave was lol Um asthe thalrile the benes sran qucrhome, on the for lonssh\n",
      "Ining aret ae thhoo hot met on O KINONTA:\n",
      "wit Ovorele, ve mifkat that ow awror tow pwt.\n",
      "\n",
      "Mcr hiilthithe wor yout ott ofkk to he? Lal thofmt ye hoth;\n",
      "Rergoung thargof,\n",
      "Kof tisoly elrs tu moveas kes, thin'd tas, tums the thopilolo apvan wor sid bur.\n",
      "\n",
      "Wher liprad toelo?\n",
      "Thoy silas is!\n",
      "\n",
      "\n",
      "Thalgord os the con mo mow nen whins owgot lo sonsnn and od euld al"
     ]
    }
   ],
   "source": [
    "optimization_step = jax.jit(partial(training.optimization_step, loss_fn=training.logit_prediction_loss))\n",
    "get_batch = jax.jit(partial(dataset.get_batch, batch_size=batch_size, context_len=context_len))\n",
    "generate_token = jax.jit(partial(model.apply, method=model.generate_token))\n",
    "def generate_text(params, prompt: str, length=500, rng_key=jax.random.key(0)):\n",
    "    context = dataset.tokenizer.encode(prompt)\n",
    "    print(\"\\033[94m\", dataset.tokenizer.decode(context), \"\\033[0m\", end=\"\")\n",
    "    for sub_rng in jax.random.split(rng_key, length):\n",
    "        next_token, context = generate_token(params, context, sub_rng)\n",
    "        print(dataset.tokenizer.decode(next_token[None]), end=\"\")\n",
    "\n",
    "losses = []\n",
    "train_state = TrainState.create(\n",
    "    apply_fn=model.apply,\n",
    "    params=model.init(rng_key, dataset.sample(context_len, rng_key)),\n",
    "    tx=optax.adam(3e-4),\n",
    ")\n",
    "for epoch_rng_key in tqdm(jax.random.split(rng_key, 10)):\n",
    "    for batch_rng_key in tqdm(jax.random.split(epoch_rng_key, 10000), leave=False):\n",
    "        x, y = get_batch(rng_key=batch_rng_key)\n",
    "        train_state, loss_value = optimization_step(train_state, x, y)\n",
    "        losses.append(loss_value)\n",
    "    print(f\"Loss: {sum(losses) / len(losses)}\\nGeneration test: \")\n",
    "    generate_text(train_state.params, prompt=\"To be or\", rng_key=epoch_rng_key)"
   ]
  }
 ],
 "metadata": {
  "kernelspec": {
   "display_name": "base",
   "language": "python",
   "name": "python3"
  },
  "language_info": {
   "codemirror_mode": {
    "name": "ipython",
    "version": 3
   },
   "file_extension": ".py",
   "mimetype": "text/x-python",
   "name": "python",
   "nbconvert_exporter": "python",
   "pygments_lexer": "ipython3",
   "version": "3.11.5"
  }
 },
 "nbformat": 4,
 "nbformat_minor": 2
}
